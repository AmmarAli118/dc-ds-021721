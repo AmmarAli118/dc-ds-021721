{
 "cells": [
  {
   "cell_type": "markdown",
   "metadata": {},
   "source": [
    "<h1 style=\"color:brown;\">  Hands on practice with neural network</h1> "
   ]
  },
  {
   "cell_type": "markdown",
   "metadata": {},
   "source": [
    "### Lesson plan"
   ]
  },
  {
   "cell_type": "markdown",
   "metadata": {},
   "source": [
    "1. How to evaluate a model? <a href=\"https://colah.github.io/posts/2015-09-Visual-Information/\">cross-entropy</a>\n",
    "2. Types of Neural Nets\n",
    "3. Keras & Tensorflow - specialized framework (python library) for machine learning\n",
    "4. Hands on image reconstruction with Keras (approximately PCA)"
   ]
  },
  {
   "cell_type": "markdown",
   "metadata": {},
   "source": [
    "### Some types of neural networks  "
   ]
  },
  {
   "cell_type": "markdown",
   "metadata": {},
   "source": [
    "- Classic - what we did on Friday\n",
    "- Auto-encoder (like PCA finding compressed representation) - now\n",
    "\n",
    "the hidden layer is an encoding of the generalization\n",
    "- Recurrent neural network - coming soon\n",
    "- Convlutional neural networks - coming soon"
   ]
  },
  {
   "cell_type": "markdown",
   "metadata": {},
   "source": [
    "![](./img/RNN.png)"
   ]
  },
  {
   "cell_type": "markdown",
   "metadata": {},
   "source": [
    "![](./img/CNN.png)"
   ]
  },
  {
   "cell_type": "markdown",
   "metadata": {},
   "source": [
    "![](./img/autorec.png)"
   ]
  },
  {
   "cell_type": "markdown",
   "metadata": {
    "slideshow": {
     "slide_type": "slide"
    }
   },
   "source": [
    "### 3. Tensorflow and Keras\n",
    "##### An Example"
   ]
  },
  {
   "cell_type": "markdown",
   "metadata": {
    "slideshow": {
     "slide_type": "slide"
    }
   },
   "source": [
    "### Image Classification\n",
    "[CIFAR-10](http://www.cs.toronto.edu/~kriz/cifar.html) is a common benchmark in machine learning for image recognition. The CIFAR-10 dataset consists of 60000 32x32 colour images in 10 classes, with 6000 images per class. There are 50000 training images and 10000 test images. \n",
    "\n",
    "<img align =left src=\"./img/c10imgcat.png\">"
   ]
  },
  {
   "cell_type": "markdown",
   "metadata": {
    "slideshow": {
     "slide_type": "slide"
    }
   },
   "source": [
    "<img align =left src=\"./img/tf-logo3.png\"><br>\n",
    "\n",
    "\n",
    "This task can be accomplished in TensorFlow and the code can be found [here](https://github.com/tensorflow/models/tree/master/tutorials/image/cifar10/). Let's look at it together. "
   ]
  },
  {
   "cell_type": "markdown",
   "metadata": {
    "slideshow": {
     "slide_type": "slide"
    }
   },
   "source": [
    "<img align =left src=\"./img/keras.png\"><br>\n",
    "\n",
    "Now, the same task in [in Keras](https://keras.io/examples/cifar10_cnn/). After looking at it and comparing it to the tensorflow code, what do you notice? Any formatting look familiar?"
   ]
  },
  {
   "cell_type": "markdown",
   "metadata": {
    "slideshow": {
     "slide_type": "slide"
    }
   },
   "source": [
    "### Similar to another scenario we've seen:\n",
    "\n",
    "![statsmodels](./img/statsmodels_hybi_banner.png)\n",
    "\n",
    "vs\n",
    "\n",
    "![sklearn](./img/sklearn.png )"
   ]
  },
  {
   "cell_type": "markdown",
   "metadata": {
    "slideshow": {
     "slide_type": "slide"
    }
   },
   "source": [
    "### Okay, but should I use Keras or Tensorflow?\n",
    "![wrong question](https://www.pyimagesearch.com/wp-content/uploads/2018/10/keras_vs_tensorflow_wrong_question.jpg)"
   ]
  },
  {
   "cell_type": "markdown",
   "metadata": {
    "slideshow": {
     "slide_type": "slide"
    }
   },
   "source": [
    "### Keras is an API\n",
    "\n",
    "Coded in Python, that can be layered on top of many different back-end processing systems.\n",
    "\n",
    "![kerasback](./img/keras_2.png)\n",
    "\n",
    "While each of these systems has their own coding methods, Keras abstracts from that in streamlined pythonic manner we are used to seeing in other python modeling libraries.\n",
    "\n",
    "Keras development is backed primarily by Google, and the Keras API comes packaged in TensorFlow as tf.keras. Additionally, Microsoft maintains the CNTK Keras backend. Amazon AWS is maintaining the Keras fork with MXNet support. Other contributing companies include NVIDIA, Uber, and Apple (with CoreML)."
   ]
  },
  {
   "cell_type": "markdown",
   "metadata": {
    "slideshow": {
     "slide_type": "slide"
    }
   },
   "source": [
    "## Wait, what's TensorFlow?\n"
   ]
  },
  {
   "cell_type": "markdown",
   "metadata": {
    "slideshow": {
     "slide_type": "fragment"
    }
   },
   "source": [
    "## Let's start with tensors"
   ]
  },
  {
   "cell_type": "markdown",
   "metadata": {
    "slideshow": {
     "slide_type": "slide"
    }
   },
   "source": [
    "## Tensors are multidimensional matricies\n",
    "\n",
    "![tensor](./img/tensors.png)"
   ]
  },
  {
   "cell_type": "markdown",
   "metadata": {},
   "source": [
    "### TensorFlow manages the flow of matrix math\n",
    "\n",
    "That makes neural network processing possible.\n",
    "\n",
    "![cat](./img/cat-tensors.gif)"
   ]
  },
  {
   "cell_type": "markdown",
   "metadata": {},
   "source": [
    "## TensorFlow at its start\n",
    "\n",
    "An open-source library\n",
    "\n",
    "![more-arch](./img/layers.png)"
   ]
  },
  {
   "cell_type": "markdown",
   "metadata": {
    "slideshow": {
     "slide_type": "slide"
    }
   },
   "source": [
    "### 2007 Keras was fully integrated into TensorFlow\n",
    "\n",
    "It \"comes with\" Tensorflow and provides all the medium to high end API services to integrate with tensorflow processing.\n",
    "\n",
    "![tensorflow-prog](./img/tensorflow_programming_environment.png)"
   ]
  },
  {
   "cell_type": "markdown",
   "metadata": {},
   "source": [
    "### Keras, an API with an intentional UX\n",
    "\n",
    "- Deliberately design end-to-end user workflows\n",
    "- Reduce cognitive load for your users\n",
    "- Provide helpful feedback to your users\n",
    "\n",
    "[full article here](https://blog.keras.io/user-experience-design-for-apis.html)<br>\n",
    "[full list of why to use Keras](https://keras.io/why-use-keras/)"
   ]
  },
  {
   "cell_type": "markdown",
   "metadata": {},
   "source": [
    "### A few comparisons\n",
    "\n",
    "While you **can leverage both**, here are a few comparisons.\n",
    "\n",
    "| Comparison | Keras | Tensorflow|\n",
    "|------------|-------|-----------|\n",
    "| **Level of API** | high-level API | High and low-level APIs |\n",
    "| **Speed** |  can *seem* slower |  is a bit faster |\n",
    "| **Language architecture** | simple architecture, more readable and concise | straight tensorflow is a bit mroe complex |\n",
    "| **Debugging** | less frequent need to debug | difficult to debug |\n",
    "| **Datasets** | usually used for small datasets | high performance models and large datasets that require fast execution|\n",
    "\n",
    "This is also a _**non-issue**_ - as you can leverage tensorflow commands within keras and vice versa. If Keras ever seems slower, it's because the developer's time is more expensive than the GPUs. Keras is designed with the developer in mind. \n",
    "\n",
    "\n",
    "[reference link](https://www.edureka.co/blog/keras-vs-tensorflow-vs-pytorch/)"
   ]
  },
  {
   "cell_type": "markdown",
   "metadata": {},
   "source": [
    "## More levers and buttons\n",
    "\n",
    "Coding directly in **Tensorflow** allows you to tweak more parameters to optimize performance. The **Keras** wrapper makes the code more accessible for developers prototyping models.\n",
    "\n",
    "![levers](./img/levers.jpeg)"
   ]
  },
  {
   "cell_type": "markdown",
   "metadata": {},
   "source": [
    "### Building our first Neural Network - Auto-encoder"
   ]
  },
  {
   "cell_type": "markdown",
   "metadata": {},
   "source": [
    "#### Install Keras & tensorflow"
   ]
  },
  {
   "cell_type": "code",
   "execution_count": 2,
   "metadata": {},
   "outputs": [
    {
     "name": "stdout",
     "output_type": "stream",
     "text": [
      "Requirement already satisfied: tensorflow in /anaconda3/lib/python3.7/site-packages (2.0.0)\n",
      "Requirement already satisfied: gast==0.2.2 in /anaconda3/lib/python3.7/site-packages (from tensorflow) (0.2.2)\n",
      "Requirement already satisfied: keras-preprocessing>=1.0.5 in /anaconda3/lib/python3.7/site-packages (from tensorflow) (1.1.0)\n",
      "Requirement already satisfied: tensorflow-estimator<2.1.0,>=2.0.0 in /anaconda3/lib/python3.7/site-packages (from tensorflow) (2.0.1)\n",
      "Requirement already satisfied: tensorboard<2.1.0,>=2.0.0 in /anaconda3/lib/python3.7/site-packages (from tensorflow) (2.0.1)\n",
      "Requirement already satisfied: wheel>=0.26 in /anaconda3/lib/python3.7/site-packages (from tensorflow) (0.34.2)\n",
      "Requirement already satisfied: protobuf>=3.6.1 in /anaconda3/lib/python3.7/site-packages (from tensorflow) (3.10.0)\n",
      "Requirement already satisfied: grpcio>=1.8.6 in /anaconda3/lib/python3.7/site-packages (from tensorflow) (1.25.0)\n",
      "Requirement already satisfied: termcolor>=1.1.0 in /anaconda3/lib/python3.7/site-packages (from tensorflow) (1.1.0)\n",
      "Requirement already satisfied: opt-einsum>=2.3.2 in /anaconda3/lib/python3.7/site-packages (from tensorflow) (3.1.0)\n",
      "Requirement already satisfied: wrapt>=1.11.1 in /anaconda3/lib/python3.7/site-packages (from tensorflow) (1.12.1)\n",
      "Requirement already satisfied: six>=1.10.0 in /anaconda3/lib/python3.7/site-packages (from tensorflow) (1.14.0)\n",
      "Requirement already satisfied: google-pasta>=0.1.6 in /anaconda3/lib/python3.7/site-packages (from tensorflow) (0.1.8)\n",
      "Requirement already satisfied: keras-applications>=1.0.8 in /anaconda3/lib/python3.7/site-packages (from tensorflow) (1.0.8)\n",
      "Requirement already satisfied: numpy<2.0,>=1.16.0 in /anaconda3/lib/python3.7/site-packages (from tensorflow) (1.18.1)\n",
      "Requirement already satisfied: absl-py>=0.7.0 in /anaconda3/lib/python3.7/site-packages (from tensorflow) (0.8.1)\n",
      "Requirement already satisfied: astor>=0.6.0 in /anaconda3/lib/python3.7/site-packages (from tensorflow) (0.8.0)\n",
      "Requirement already satisfied: setuptools>=41.0.0 in /anaconda3/lib/python3.7/site-packages (from tensorboard<2.1.0,>=2.0.0->tensorflow) (46.1.3.post20200330)\n",
      "Requirement already satisfied: markdown>=2.6.8 in /anaconda3/lib/python3.7/site-packages (from tensorboard<2.1.0,>=2.0.0->tensorflow) (3.1.1)\n",
      "Requirement already satisfied: google-auth-oauthlib<0.5,>=0.4.1 in /anaconda3/lib/python3.7/site-packages (from tensorboard<2.1.0,>=2.0.0->tensorflow) (0.4.1)\n",
      "Requirement already satisfied: google-auth<2,>=1.6.3 in /anaconda3/lib/python3.7/site-packages (from tensorboard<2.1.0,>=2.0.0->tensorflow) (1.7.1)\n",
      "Requirement already satisfied: werkzeug>=0.11.15 in /anaconda3/lib/python3.7/site-packages (from tensorboard<2.1.0,>=2.0.0->tensorflow) (1.0.1)\n",
      "Requirement already satisfied: h5py in /anaconda3/lib/python3.7/site-packages (from keras-applications>=1.0.8->tensorflow) (2.10.0)\n",
      "Requirement already satisfied: requests-oauthlib>=0.7.0 in /anaconda3/lib/python3.7/site-packages (from google-auth-oauthlib<0.5,>=0.4.1->tensorboard<2.1.0,>=2.0.0->tensorflow) (1.3.0)\n",
      "Requirement already satisfied: pyasn1-modules>=0.2.1 in /anaconda3/lib/python3.7/site-packages (from google-auth<2,>=1.6.3->tensorboard<2.1.0,>=2.0.0->tensorflow) (0.2.7)\n",
      "Requirement already satisfied: rsa<4.1,>=3.1.4 in /anaconda3/lib/python3.7/site-packages (from google-auth<2,>=1.6.3->tensorboard<2.1.0,>=2.0.0->tensorflow) (4.0)\n",
      "Requirement already satisfied: cachetools<3.2,>=2.0.0 in /anaconda3/lib/python3.7/site-packages (from google-auth<2,>=1.6.3->tensorboard<2.1.0,>=2.0.0->tensorflow) (3.1.1)\n",
      "Requirement already satisfied: requests>=2.0.0 in /anaconda3/lib/python3.7/site-packages (from requests-oauthlib>=0.7.0->google-auth-oauthlib<0.5,>=0.4.1->tensorboard<2.1.0,>=2.0.0->tensorflow) (2.23.0)\n",
      "Requirement already satisfied: oauthlib>=3.0.0 in /anaconda3/lib/python3.7/site-packages (from requests-oauthlib>=0.7.0->google-auth-oauthlib<0.5,>=0.4.1->tensorboard<2.1.0,>=2.0.0->tensorflow) (3.1.0)\n",
      "Requirement already satisfied: pyasn1<0.5.0,>=0.4.6 in /anaconda3/lib/python3.7/site-packages (from pyasn1-modules>=0.2.1->google-auth<2,>=1.6.3->tensorboard<2.1.0,>=2.0.0->tensorflow) (0.4.8)\n",
      "Requirement already satisfied: urllib3!=1.25.0,!=1.25.1,<1.26,>=1.21.1 in /anaconda3/lib/python3.7/site-packages (from requests>=2.0.0->requests-oauthlib>=0.7.0->google-auth-oauthlib<0.5,>=0.4.1->tensorboard<2.1.0,>=2.0.0->tensorflow) (1.25.8)\n",
      "Requirement already satisfied: chardet<4,>=3.0.2 in /anaconda3/lib/python3.7/site-packages (from requests>=2.0.0->requests-oauthlib>=0.7.0->google-auth-oauthlib<0.5,>=0.4.1->tensorboard<2.1.0,>=2.0.0->tensorflow) (3.0.4)\n",
      "Requirement already satisfied: idna<3,>=2.5 in /anaconda3/lib/python3.7/site-packages (from requests>=2.0.0->requests-oauthlib>=0.7.0->google-auth-oauthlib<0.5,>=0.4.1->tensorboard<2.1.0,>=2.0.0->tensorflow) (2.9)\n",
      "Requirement already satisfied: certifi>=2017.4.17 in /anaconda3/lib/python3.7/site-packages (from requests>=2.0.0->requests-oauthlib>=0.7.0->google-auth-oauthlib<0.5,>=0.4.1->tensorboard<2.1.0,>=2.0.0->tensorflow) (2020.4.5.1)\n",
      "Requirement already satisfied: keras in /anaconda3/lib/python3.7/site-packages (2.3.1)\n",
      "Requirement already satisfied: keras-applications>=1.0.6 in /anaconda3/lib/python3.7/site-packages (from keras) (1.0.8)\n",
      "Requirement already satisfied: pyyaml in /anaconda3/lib/python3.7/site-packages (from keras) (5.3.1)\n",
      "Requirement already satisfied: h5py in /anaconda3/lib/python3.7/site-packages (from keras) (2.10.0)\n",
      "Requirement already satisfied: keras-preprocessing>=1.0.5 in /anaconda3/lib/python3.7/site-packages (from keras) (1.1.0)\n",
      "Requirement already satisfied: scipy>=0.14 in /anaconda3/lib/python3.7/site-packages (from keras) (1.4.1)\n",
      "Requirement already satisfied: six>=1.9.0 in /anaconda3/lib/python3.7/site-packages (from keras) (1.14.0)\n",
      "Requirement already satisfied: numpy>=1.9.1 in /anaconda3/lib/python3.7/site-packages (from keras) (1.18.1)\n"
     ]
    }
   ],
   "source": [
    "!pip install tensorflow\n",
    "!pip install keras"
   ]
  },
  {
   "cell_type": "markdown",
   "metadata": {},
   "source": [
    "### Keras basic syntax "
   ]
  },
  {
   "cell_type": "markdown",
   "metadata": {},
   "source": [
    "<a href=\"https://keras.io\">Documentation</a>"
   ]
  },
  {
   "cell_type": "code",
   "execution_count": 9,
   "metadata": {},
   "outputs": [],
   "source": [
    "import numpy as np"
   ]
  },
  {
   "cell_type": "code",
   "execution_count": 10,
   "metadata": {},
   "outputs": [
    {
     "data": {
      "text/plain": [
       "array([[0.83000919, 0.32521522, 0.42921256, ..., 0.02792621, 0.64992864,\n",
       "        0.74843745],\n",
       "       [0.35055943, 0.2709626 , 0.69621536, ..., 0.9137257 , 0.85644882,\n",
       "        0.39296035],\n",
       "       [0.16271422, 0.87745075, 0.75741009, ..., 0.9761104 , 0.74947231,\n",
       "        0.81007745],\n",
       "       ...,\n",
       "       [0.12878114, 0.16524134, 0.95562218, ..., 0.71801066, 0.95533221,\n",
       "        0.0540437 ],\n",
       "       [0.20838243, 0.73268622, 0.91632005, ..., 0.43062195, 0.17900719,\n",
       "        0.98324706],\n",
       "       [0.31102581, 0.21676889, 0.44234023, ..., 0.08378513, 0.82087922,\n",
       "        0.71474132]])"
      ]
     },
     "execution_count": 10,
     "metadata": {},
     "output_type": "execute_result"
    }
   ],
   "source": [
    "x_train = np.random.random((1000,20))\n",
    "x_train"
   ]
  },
  {
   "cell_type": "code",
   "execution_count": 11,
   "metadata": {},
   "outputs": [
    {
     "data": {
      "text/plain": [
       "(1000, 20)"
      ]
     },
     "execution_count": 11,
     "metadata": {},
     "output_type": "execute_result"
    }
   ],
   "source": [
    "x_train.shape"
   ]
  },
  {
   "cell_type": "code",
   "execution_count": 12,
   "metadata": {},
   "outputs": [],
   "source": [
    "x_test = np.random.random((1000, 20))\n"
   ]
  },
  {
   "cell_type": "code",
   "execution_count": 18,
   "metadata": {},
   "outputs": [],
   "source": [
    "y_train = keras.utils.to_categorical(np.random.randint(10, size=(1000, 1)), num_classes=10)\n",
    "y_test = keras.utils.to_categorical(np.random.randint(10, size=(1000, 1)), num_classes=10)"
   ]
  },
  {
   "cell_type": "code",
   "execution_count": 22,
   "metadata": {},
   "outputs": [
    {
     "data": {
      "text/plain": [
       "(1000, 10)"
      ]
     },
     "execution_count": 22,
     "metadata": {},
     "output_type": "execute_result"
    }
   ],
   "source": [
    "y_train.shape"
   ]
  },
  {
   "cell_type": "code",
   "execution_count": 26,
   "metadata": {},
   "outputs": [
    {
     "data": {
      "text/plain": [
       "array([4])"
      ]
     },
     "execution_count": 26,
     "metadata": {},
     "output_type": "execute_result"
    }
   ],
   "source": [
    "Ytrain[1]"
   ]
  },
  {
   "cell_type": "code",
   "execution_count": 28,
   "metadata": {},
   "outputs": [
    {
     "data": {
      "text/plain": [
       "array([0.35055943, 0.2709626 , 0.69621536, 0.82217201, 0.12458948,\n",
       "       0.23012142, 0.66277549, 0.67574637, 0.91202092, 0.89108533,\n",
       "       0.21632025, 0.61228889, 0.6107084 , 0.86881153, 0.97154969,\n",
       "       0.28153435, 0.24869385, 0.9137257 , 0.85644882, 0.39296035])"
      ]
     },
     "execution_count": 28,
     "metadata": {},
     "output_type": "execute_result"
    }
   ],
   "source": [
    "x_train[1,:]"
   ]
  },
  {
   "cell_type": "code",
   "execution_count": 23,
   "metadata": {},
   "outputs": [
    {
     "data": {
      "text/plain": [
       "array([0., 0., 0., 0., 0., 0., 0., 1., 0., 0.], dtype=float32)"
      ]
     },
     "execution_count": 23,
     "metadata": {},
     "output_type": "execute_result"
    }
   ],
   "source": [
    "y_train[1, :]"
   ]
  },
  {
   "cell_type": "code",
   "execution_count": 21,
   "metadata": {},
   "outputs": [],
   "source": [
    "Ytrain = np.random.randint(10, size=(1000, 1))"
   ]
  },
  {
   "cell_type": "code",
   "execution_count": 1,
   "metadata": {},
   "outputs": [
    {
     "name": "stderr",
     "output_type": "stream",
     "text": [
      "Using TensorFlow backend.\n"
     ]
    }
   ],
   "source": [
    "import keras"
   ]
  },
  {
   "cell_type": "code",
   "execution_count": null,
   "metadata": {},
   "outputs": [],
   "source": []
  },
  {
   "cell_type": "code",
   "execution_count": 5,
   "metadata": {},
   "outputs": [],
   "source": [
    "from keras.models import Sequential"
   ]
  },
  {
   "cell_type": "code",
   "execution_count": 6,
   "metadata": {},
   "outputs": [],
   "source": [
    "model = Sequential()"
   ]
  },
  {
   "cell_type": "code",
   "execution_count": 7,
   "metadata": {},
   "outputs": [
    {
     "data": {
      "text/plain": [
       "keras.engine.sequential.Sequential"
      ]
     },
     "execution_count": 7,
     "metadata": {},
     "output_type": "execute_result"
    }
   ],
   "source": [
    "type(model)"
   ]
  },
  {
   "cell_type": "code",
   "execution_count": 8,
   "metadata": {},
   "outputs": [],
   "source": [
    "from keras.layers import Dense"
   ]
  },
  {
   "cell_type": "code",
   "execution_count": 13,
   "metadata": {},
   "outputs": [],
   "source": [
    "model.add(Dense(units = 64, activation = 'relu', input_dim = 20))"
   ]
  },
  {
   "cell_type": "code",
   "execution_count": 31,
   "metadata": {},
   "outputs": [],
   "source": [
    "model.add(Dense(units = 10, activation = 'softmax', name = 'murat'))"
   ]
  },
  {
   "cell_type": "code",
   "execution_count": 32,
   "metadata": {},
   "outputs": [
    {
     "name": "stdout",
     "output_type": "stream",
     "text": [
      "Model: \"sequential_1\"\n",
      "_________________________________________________________________\n",
      "Layer (type)                 Output Shape              Param #   \n",
      "=================================================================\n",
      "dense_1 (Dense)              (None, 64)                1344      \n",
      "_________________________________________________________________\n",
      "dense_2 (Dense)              (None, 10)                650       \n",
      "_________________________________________________________________\n",
      "murat (Dense)                (None, 10)                110       \n",
      "=================================================================\n",
      "Total params: 2,104\n",
      "Trainable params: 2,104\n",
      "Non-trainable params: 0\n",
      "_________________________________________________________________\n"
     ]
    }
   ],
   "source": [
    "model.summary()"
   ]
  },
  {
   "cell_type": "code",
   "execution_count": 15,
   "metadata": {
    "scrolled": true
   },
   "outputs": [
    {
     "data": {
      "text/plain": [
       "21.0"
      ]
     },
     "execution_count": 15,
     "metadata": {},
     "output_type": "execute_result"
    }
   ],
   "source": [
    "model"
   ]
  },
  {
   "cell_type": "code",
   "execution_count": 14,
   "metadata": {},
   "outputs": [
    {
     "name": "stdout",
     "output_type": "stream",
     "text": [
      "Model: \"sequential_1\"\n",
      "_________________________________________________________________\n",
      "Layer (type)                 Output Shape              Param #   \n",
      "=================================================================\n",
      "dense_1 (Dense)              (None, 64)                1344      \n",
      "=================================================================\n",
      "Total params: 1,344\n",
      "Trainable params: 1,344\n",
      "Non-trainable params: 0\n",
      "_________________________________________________________________\n"
     ]
    }
   ],
   "source": [
    "model.summary()"
   ]
  },
  {
   "cell_type": "code",
   "execution_count": 36,
   "metadata": {},
   "outputs": [
    {
     "data": {
      "text/plain": [
       "22500000000"
      ]
     },
     "execution_count": 36,
     "metadata": {},
     "output_type": "execute_result"
    }
   ],
   "source": [
    "150*150*1000000"
   ]
  },
  {
   "cell_type": "code",
   "execution_count": 37,
   "metadata": {},
   "outputs": [],
   "source": [
    "model.compile(optimizer= 'sgd', loss = 'categorical_crossentropy', metrics= ['accuracy'])"
   ]
  },
  {
   "cell_type": "code",
   "execution_count": 38,
   "metadata": {},
   "outputs": [
    {
     "name": "stdout",
     "output_type": "stream",
     "text": [
      "Model: \"sequential_1\"\n",
      "_________________________________________________________________\n",
      "Layer (type)                 Output Shape              Param #   \n",
      "=================================================================\n",
      "dense_1 (Dense)              (None, 64)                1344      \n",
      "_________________________________________________________________\n",
      "dense_2 (Dense)              (None, 10)                650       \n",
      "_________________________________________________________________\n",
      "murat (Dense)                (None, 10)                110       \n",
      "=================================================================\n",
      "Total params: 2,104\n",
      "Trainable params: 2,104\n",
      "Non-trainable params: 0\n",
      "_________________________________________________________________\n"
     ]
    }
   ],
   "source": [
    "model.summary()"
   ]
  },
  {
   "cell_type": "code",
   "execution_count": 41,
   "metadata": {
    "scrolled": false
   },
   "outputs": [
    {
     "name": "stdout",
     "output_type": "stream",
     "text": [
      "Train on 900 samples, validate on 100 samples\n",
      "Epoch 1/100\n",
      "900/900 [==============================] - 0s 98us/step - loss: 2.2906 - accuracy: 0.1289 - val_loss: 2.3271 - val_accuracy: 0.0700\n",
      "Epoch 2/100\n",
      "900/900 [==============================] - 0s 97us/step - loss: 2.2906 - accuracy: 0.1289 - val_loss: 2.3272 - val_accuracy: 0.0700\n",
      "Epoch 3/100\n",
      "900/900 [==============================] - 0s 103us/step - loss: 2.2905 - accuracy: 0.1289 - val_loss: 2.3274 - val_accuracy: 0.0700\n",
      "Epoch 4/100\n",
      "900/900 [==============================] - 0s 101us/step - loss: 2.2904 - accuracy: 0.1289 - val_loss: 2.3274 - val_accuracy: 0.0700\n",
      "Epoch 5/100\n",
      "900/900 [==============================] - 0s 104us/step - loss: 2.2903 - accuracy: 0.1278 - val_loss: 2.3275 - val_accuracy: 0.0700\n",
      "Epoch 6/100\n",
      "900/900 [==============================] - 0s 89us/step - loss: 2.2903 - accuracy: 0.1289 - val_loss: 2.3275 - val_accuracy: 0.0700\n",
      "Epoch 7/100\n",
      "900/900 [==============================] - 0s 102us/step - loss: 2.2902 - accuracy: 0.1289 - val_loss: 2.3275 - val_accuracy: 0.0700\n",
      "Epoch 8/100\n",
      "900/900 [==============================] - 0s 99us/step - loss: 2.2901 - accuracy: 0.1289 - val_loss: 2.3275 - val_accuracy: 0.0700\n",
      "Epoch 9/100\n",
      "900/900 [==============================] - 0s 91us/step - loss: 2.2900 - accuracy: 0.1289 - val_loss: 2.3276 - val_accuracy: 0.0700\n",
      "Epoch 10/100\n",
      "900/900 [==============================] - 0s 103us/step - loss: 2.2900 - accuracy: 0.1278 - val_loss: 2.3276 - val_accuracy: 0.0700\n",
      "Epoch 11/100\n",
      "900/900 [==============================] - 0s 91us/step - loss: 2.2898 - accuracy: 0.1278 - val_loss: 2.3278 - val_accuracy: 0.0700\n",
      "Epoch 12/100\n",
      "900/900 [==============================] - 0s 99us/step - loss: 2.2898 - accuracy: 0.1278 - val_loss: 2.3279 - val_accuracy: 0.0700\n",
      "Epoch 13/100\n",
      "900/900 [==============================] - 0s 92us/step - loss: 2.2897 - accuracy: 0.1300 - val_loss: 2.3281 - val_accuracy: 0.0700\n",
      "Epoch 14/100\n",
      "900/900 [==============================] - 0s 99us/step - loss: 2.2896 - accuracy: 0.1289 - val_loss: 2.3281 - val_accuracy: 0.0700\n",
      "Epoch 15/100\n",
      "900/900 [==============================] - 0s 96us/step - loss: 2.2895 - accuracy: 0.1289 - val_loss: 2.3281 - val_accuracy: 0.0700\n",
      "Epoch 16/100\n",
      "900/900 [==============================] - 0s 100us/step - loss: 2.2894 - accuracy: 0.1278 - val_loss: 2.3282 - val_accuracy: 0.0700\n",
      "Epoch 17/100\n",
      "900/900 [==============================] - 0s 99us/step - loss: 2.2894 - accuracy: 0.1289 - val_loss: 2.3283 - val_accuracy: 0.0700\n",
      "Epoch 18/100\n",
      "900/900 [==============================] - 0s 100us/step - loss: 2.2893 - accuracy: 0.1278 - val_loss: 2.3283 - val_accuracy: 0.0700\n",
      "Epoch 19/100\n",
      "900/900 [==============================] - 0s 107us/step - loss: 2.2892 - accuracy: 0.1278 - val_loss: 2.3283 - val_accuracy: 0.0700\n",
      "Epoch 20/100\n",
      "900/900 [==============================] - 0s 98us/step - loss: 2.2891 - accuracy: 0.1278 - val_loss: 2.3284 - val_accuracy: 0.0700\n",
      "Epoch 21/100\n",
      "900/900 [==============================] - 0s 98us/step - loss: 2.2890 - accuracy: 0.1289 - val_loss: 2.3286 - val_accuracy: 0.0700\n",
      "Epoch 22/100\n",
      "900/900 [==============================] - 0s 112us/step - loss: 2.2889 - accuracy: 0.1289 - val_loss: 2.3286 - val_accuracy: 0.0700\n",
      "Epoch 23/100\n",
      "900/900 [==============================] - 0s 96us/step - loss: 2.2888 - accuracy: 0.1289 - val_loss: 2.3286 - val_accuracy: 0.0700\n",
      "Epoch 24/100\n",
      "900/900 [==============================] - 0s 109us/step - loss: 2.2888 - accuracy: 0.1289 - val_loss: 2.3286 - val_accuracy: 0.0700\n",
      "Epoch 25/100\n",
      "900/900 [==============================] - 0s 102us/step - loss: 2.2886 - accuracy: 0.1278 - val_loss: 2.3286 - val_accuracy: 0.0700\n",
      "Epoch 26/100\n",
      "900/900 [==============================] - 0s 103us/step - loss: 2.2886 - accuracy: 0.1278 - val_loss: 2.3287 - val_accuracy: 0.0700\n",
      "Epoch 27/100\n",
      "900/900 [==============================] - 0s 102us/step - loss: 2.2884 - accuracy: 0.1289 - val_loss: 2.3287 - val_accuracy: 0.0700\n",
      "Epoch 28/100\n",
      "900/900 [==============================] - 0s 100us/step - loss: 2.2884 - accuracy: 0.1289 - val_loss: 2.3289 - val_accuracy: 0.0700\n",
      "Epoch 29/100\n",
      "900/900 [==============================] - 0s 100us/step - loss: 2.2883 - accuracy: 0.1289 - val_loss: 2.3291 - val_accuracy: 0.0700\n",
      "Epoch 30/100\n",
      "900/900 [==============================] - 0s 105us/step - loss: 2.2882 - accuracy: 0.1289 - val_loss: 2.3291 - val_accuracy: 0.0700\n",
      "Epoch 31/100\n",
      "900/900 [==============================] - 0s 110us/step - loss: 2.2881 - accuracy: 0.1289 - val_loss: 2.3292 - val_accuracy: 0.0700\n",
      "Epoch 32/100\n",
      "900/900 [==============================] - 0s 115us/step - loss: 2.2879 - accuracy: 0.1289 - val_loss: 2.3293 - val_accuracy: 0.0800\n",
      "Epoch 33/100\n",
      "900/900 [==============================] - 0s 107us/step - loss: 2.2879 - accuracy: 0.1289 - val_loss: 2.3294 - val_accuracy: 0.0800\n",
      "Epoch 34/100\n",
      "900/900 [==============================] - 0s 112us/step - loss: 2.2878 - accuracy: 0.1289 - val_loss: 2.3294 - val_accuracy: 0.0800\n",
      "Epoch 35/100\n",
      "900/900 [==============================] - 0s 94us/step - loss: 2.2877 - accuracy: 0.1289 - val_loss: 2.3295 - val_accuracy: 0.0800\n",
      "Epoch 36/100\n",
      "900/900 [==============================] - 0s 100us/step - loss: 2.2876 - accuracy: 0.1289 - val_loss: 2.3295 - val_accuracy: 0.0800\n",
      "Epoch 37/100\n",
      "900/900 [==============================] - 0s 105us/step - loss: 2.2874 - accuracy: 0.1289 - val_loss: 2.3297 - val_accuracy: 0.0800\n",
      "Epoch 38/100\n",
      "900/900 [==============================] - 0s 104us/step - loss: 2.2874 - accuracy: 0.1289 - val_loss: 2.3300 - val_accuracy: 0.0800\n",
      "Epoch 39/100\n",
      "900/900 [==============================] - 0s 100us/step - loss: 2.2872 - accuracy: 0.1289 - val_loss: 2.3301 - val_accuracy: 0.0800\n",
      "Epoch 40/100\n",
      "900/900 [==============================] - 0s 101us/step - loss: 2.2871 - accuracy: 0.1289 - val_loss: 2.3304 - val_accuracy: 0.0800\n",
      "Epoch 41/100\n",
      "900/900 [==============================] - 0s 100us/step - loss: 2.2870 - accuracy: 0.1289 - val_loss: 2.3303 - val_accuracy: 0.0800\n",
      "Epoch 42/100\n",
      "900/900 [==============================] - 0s 104us/step - loss: 2.2869 - accuracy: 0.1289 - val_loss: 2.3305 - val_accuracy: 0.0800\n",
      "Epoch 43/100\n",
      "900/900 [==============================] - 0s 102us/step - loss: 2.2868 - accuracy: 0.1289 - val_loss: 2.3306 - val_accuracy: 0.0800\n",
      "Epoch 44/100\n",
      "900/900 [==============================] - 0s 100us/step - loss: 2.2867 - accuracy: 0.1289 - val_loss: 2.3307 - val_accuracy: 0.0800\n",
      "Epoch 45/100\n",
      "900/900 [==============================] - 0s 103us/step - loss: 2.2865 - accuracy: 0.1289 - val_loss: 2.3307 - val_accuracy: 0.0800\n",
      "Epoch 46/100\n",
      "900/900 [==============================] - 0s 98us/step - loss: 2.2864 - accuracy: 0.1289 - val_loss: 2.3307 - val_accuracy: 0.0800\n",
      "Epoch 47/100\n",
      "900/900 [==============================] - 0s 97us/step - loss: 2.2863 - accuracy: 0.1289 - val_loss: 2.3308 - val_accuracy: 0.0800\n",
      "Epoch 48/100\n",
      "900/900 [==============================] - 0s 96us/step - loss: 2.2862 - accuracy: 0.1289 - val_loss: 2.3308 - val_accuracy: 0.0800\n",
      "Epoch 49/100\n",
      "900/900 [==============================] - 0s 105us/step - loss: 2.2860 - accuracy: 0.1289 - val_loss: 2.3309 - val_accuracy: 0.0800\n",
      "Epoch 50/100\n",
      "900/900 [==============================] - 0s 98us/step - loss: 2.2859 - accuracy: 0.1300 - val_loss: 2.3312 - val_accuracy: 0.0800\n",
      "Epoch 51/100\n",
      "900/900 [==============================] - 0s 110us/step - loss: 2.2858 - accuracy: 0.1300 - val_loss: 2.3312 - val_accuracy: 0.0800\n",
      "Epoch 52/100\n",
      "900/900 [==============================] - 0s 99us/step - loss: 2.2857 - accuracy: 0.1289 - val_loss: 2.3313 - val_accuracy: 0.0800\n",
      "Epoch 53/100\n",
      "900/900 [==============================] - 0s 109us/step - loss: 2.2856 - accuracy: 0.1300 - val_loss: 2.3313 - val_accuracy: 0.0800\n",
      "Epoch 54/100\n",
      "900/900 [==============================] - 0s 112us/step - loss: 2.2854 - accuracy: 0.1289 - val_loss: 2.3314 - val_accuracy: 0.0800\n",
      "Epoch 55/100\n",
      "900/900 [==============================] - 0s 103us/step - loss: 2.2853 - accuracy: 0.1300 - val_loss: 2.3316 - val_accuracy: 0.0800\n",
      "Epoch 56/100\n",
      "900/900 [==============================] - 0s 101us/step - loss: 2.2852 - accuracy: 0.1289 - val_loss: 2.3317 - val_accuracy: 0.0800\n"
     ]
    },
    {
     "name": "stdout",
     "output_type": "stream",
     "text": [
      "Epoch 57/100\n",
      "900/900 [==============================] - 0s 82us/step - loss: 2.2851 - accuracy: 0.1289 - val_loss: 2.3316 - val_accuracy: 0.0800\n",
      "Epoch 58/100\n",
      "900/900 [==============================] - 0s 86us/step - loss: 2.2850 - accuracy: 0.1300 - val_loss: 2.3320 - val_accuracy: 0.0800\n",
      "Epoch 59/100\n",
      "900/900 [==============================] - 0s 83us/step - loss: 2.2848 - accuracy: 0.1311 - val_loss: 2.3322 - val_accuracy: 0.0800\n",
      "Epoch 60/100\n",
      "900/900 [==============================] - 0s 97us/step - loss: 2.2846 - accuracy: 0.1300 - val_loss: 2.3325 - val_accuracy: 0.0800\n",
      "Epoch 61/100\n",
      "900/900 [==============================] - 0s 82us/step - loss: 2.2845 - accuracy: 0.1311 - val_loss: 2.3326 - val_accuracy: 0.0800\n",
      "Epoch 62/100\n",
      "900/900 [==============================] - 0s 95us/step - loss: 2.2844 - accuracy: 0.1278 - val_loss: 2.3327 - val_accuracy: 0.0800\n",
      "Epoch 63/100\n",
      "900/900 [==============================] - 0s 96us/step - loss: 2.2842 - accuracy: 0.1322 - val_loss: 2.3327 - val_accuracy: 0.0800\n",
      "Epoch 64/100\n",
      "900/900 [==============================] - 0s 95us/step - loss: 2.2840 - accuracy: 0.1300 - val_loss: 2.3329 - val_accuracy: 0.0800\n",
      "Epoch 65/100\n",
      "900/900 [==============================] - 0s 92us/step - loss: 2.2839 - accuracy: 0.1300 - val_loss: 2.3331 - val_accuracy: 0.0800\n",
      "Epoch 66/100\n",
      "900/900 [==============================] - 0s 91us/step - loss: 2.2838 - accuracy: 0.1300 - val_loss: 2.3333 - val_accuracy: 0.0800\n",
      "Epoch 67/100\n",
      "900/900 [==============================] - 0s 86us/step - loss: 2.2837 - accuracy: 0.1289 - val_loss: 2.3331 - val_accuracy: 0.0800\n",
      "Epoch 68/100\n",
      "900/900 [==============================] - 0s 101us/step - loss: 2.2835 - accuracy: 0.1300 - val_loss: 2.3334 - val_accuracy: 0.0800\n",
      "Epoch 69/100\n",
      "900/900 [==============================] - 0s 91us/step - loss: 2.2834 - accuracy: 0.1311 - val_loss: 2.3336 - val_accuracy: 0.0800\n",
      "Epoch 70/100\n",
      "900/900 [==============================] - 0s 86us/step - loss: 2.2833 - accuracy: 0.1322 - val_loss: 2.3337 - val_accuracy: 0.0700\n",
      "Epoch 71/100\n",
      "900/900 [==============================] - 0s 96us/step - loss: 2.2831 - accuracy: 0.1300 - val_loss: 2.3335 - val_accuracy: 0.0600\n",
      "Epoch 72/100\n",
      "900/900 [==============================] - 0s 93us/step - loss: 2.2830 - accuracy: 0.1289 - val_loss: 2.3339 - val_accuracy: 0.0600\n",
      "Epoch 73/100\n",
      "900/900 [==============================] - 0s 102us/step - loss: 2.2828 - accuracy: 0.1300 - val_loss: 2.3341 - val_accuracy: 0.0600\n",
      "Epoch 74/100\n",
      "900/900 [==============================] - 0s 107us/step - loss: 2.2826 - accuracy: 0.1300 - val_loss: 2.3341 - val_accuracy: 0.0600\n",
      "Epoch 75/100\n",
      "900/900 [==============================] - 0s 97us/step - loss: 2.2824 - accuracy: 0.1322 - val_loss: 2.3342 - val_accuracy: 0.0600\n",
      "Epoch 76/100\n",
      "900/900 [==============================] - 0s 102us/step - loss: 2.2824 - accuracy: 0.1311 - val_loss: 2.3344 - val_accuracy: 0.0600\n",
      "Epoch 77/100\n",
      "900/900 [==============================] - 0s 107us/step - loss: 2.2821 - accuracy: 0.1300 - val_loss: 2.3346 - val_accuracy: 0.0600\n",
      "Epoch 78/100\n",
      "900/900 [==============================] - 0s 106us/step - loss: 2.2820 - accuracy: 0.1278 - val_loss: 2.3345 - val_accuracy: 0.0600\n",
      "Epoch 79/100\n",
      "900/900 [==============================] - 0s 106us/step - loss: 2.2819 - accuracy: 0.1289 - val_loss: 2.3347 - val_accuracy: 0.0600\n",
      "Epoch 80/100\n",
      "900/900 [==============================] - 0s 100us/step - loss: 2.2817 - accuracy: 0.1300 - val_loss: 2.3349 - val_accuracy: 0.0700\n",
      "Epoch 81/100\n",
      "900/900 [==============================] - 0s 88us/step - loss: 2.2816 - accuracy: 0.1289 - val_loss: 2.3354 - val_accuracy: 0.0600\n",
      "Epoch 82/100\n",
      "900/900 [==============================] - 0s 113us/step - loss: 2.2814 - accuracy: 0.1300 - val_loss: 2.3354 - val_accuracy: 0.0700\n",
      "Epoch 83/100\n",
      "900/900 [==============================] - 0s 99us/step - loss: 2.2813 - accuracy: 0.1289 - val_loss: 2.3360 - val_accuracy: 0.0600\n",
      "Epoch 84/100\n",
      "900/900 [==============================] - 0s 95us/step - loss: 2.2811 - accuracy: 0.1322 - val_loss: 2.3361 - val_accuracy: 0.0700\n",
      "Epoch 85/100\n",
      "900/900 [==============================] - 0s 108us/step - loss: 2.2809 - accuracy: 0.1267 - val_loss: 2.3366 - val_accuracy: 0.0600\n",
      "Epoch 86/100\n",
      "900/900 [==============================] - 0s 102us/step - loss: 2.2808 - accuracy: 0.1278 - val_loss: 2.3367 - val_accuracy: 0.0700\n",
      "Epoch 87/100\n",
      "900/900 [==============================] - 0s 98us/step - loss: 2.2806 - accuracy: 0.1300 - val_loss: 2.3368 - val_accuracy: 0.0700\n",
      "Epoch 88/100\n",
      "900/900 [==============================] - 0s 99us/step - loss: 2.2804 - accuracy: 0.1278 - val_loss: 2.3369 - val_accuracy: 0.0700\n",
      "Epoch 89/100\n",
      "900/900 [==============================] - 0s 91us/step - loss: 2.2802 - accuracy: 0.1289 - val_loss: 2.3368 - val_accuracy: 0.0700\n",
      "Epoch 90/100\n",
      "900/900 [==============================] - 0s 105us/step - loss: 2.2802 - accuracy: 0.1311 - val_loss: 2.3374 - val_accuracy: 0.0700\n",
      "Epoch 91/100\n",
      "900/900 [==============================] - 0s 101us/step - loss: 2.2800 - accuracy: 0.1322 - val_loss: 2.3377 - val_accuracy: 0.0700\n",
      "Epoch 92/100\n",
      "900/900 [==============================] - 0s 102us/step - loss: 2.2798 - accuracy: 0.1311 - val_loss: 2.3379 - val_accuracy: 0.0700\n",
      "Epoch 93/100\n",
      "900/900 [==============================] - 0s 98us/step - loss: 2.2797 - accuracy: 0.1300 - val_loss: 2.3377 - val_accuracy: 0.0700\n",
      "Epoch 94/100\n",
      "900/900 [==============================] - 0s 99us/step - loss: 2.2794 - accuracy: 0.1300 - val_loss: 2.3377 - val_accuracy: 0.0800\n",
      "Epoch 95/100\n",
      "900/900 [==============================] - 0s 99us/step - loss: 2.2793 - accuracy: 0.1300 - val_loss: 2.3378 - val_accuracy: 0.0800\n",
      "Epoch 96/100\n",
      "900/900 [==============================] - 0s 103us/step - loss: 2.2792 - accuracy: 0.1311 - val_loss: 2.3376 - val_accuracy: 0.0800\n",
      "Epoch 97/100\n",
      "900/900 [==============================] - 0s 96us/step - loss: 2.2791 - accuracy: 0.1322 - val_loss: 2.3381 - val_accuracy: 0.0800\n",
      "Epoch 98/100\n",
      "900/900 [==============================] - 0s 107us/step - loss: 2.2788 - accuracy: 0.1311 - val_loss: 2.3386 - val_accuracy: 0.0800\n",
      "Epoch 99/100\n",
      "900/900 [==============================] - 0s 101us/step - loss: 2.2787 - accuracy: 0.1311 - val_loss: 2.3384 - val_accuracy: 0.0800\n",
      "Epoch 100/100\n",
      "900/900 [==============================] - 0s 96us/step - loss: 2.2786 - accuracy: 0.1311 - val_loss: 2.3388 - val_accuracy: 0.0800\n"
     ]
    },
    {
     "data": {
      "text/plain": [
       "<keras.callbacks.callbacks.History at 0x63ff26a90>"
      ]
     },
     "execution_count": 41,
     "metadata": {},
     "output_type": "execute_result"
    }
   ],
   "source": [
    "model.fit(x_train, y_train, epochs=100, batch_size=10, validation_split= 0.1)"
   ]
  },
  {
   "cell_type": "code",
   "execution_count": 46,
   "metadata": {},
   "outputs": [
    {
     "name": "stdout",
     "output_type": "stream",
     "text": [
      "1000/1000 [==============================] - 0s 17us/step\n"
     ]
    },
    {
     "data": {
      "text/plain": [
       "[2.312080795288086, 0.0989999994635582]"
      ]
     },
     "execution_count": 46,
     "metadata": {},
     "output_type": "execute_result"
    }
   ],
   "source": [
    "model.evaluate(x_test, y_test)"
   ]
  },
  {
   "cell_type": "code",
   "execution_count": 47,
   "metadata": {},
   "outputs": [
    {
     "data": {
      "text/plain": [
       "['loss', 'accuracy']"
      ]
     },
     "execution_count": 47,
     "metadata": {},
     "output_type": "execute_result"
    }
   ],
   "source": [
    "model.metrics_names"
   ]
  },
  {
   "cell_type": "code",
   "execution_count": 48,
   "metadata": {},
   "outputs": [],
   "source": [
    "model.save('./dummy_model')"
   ]
  },
  {
   "cell_type": "code",
   "execution_count": null,
   "metadata": {},
   "outputs": [],
   "source": [
    "## initialize the model\n",
    "from keras.models import Sequential\n",
    "from keras.layers import Input, Dense\n",
    "model = Sequential()"
   ]
  },
  {
   "cell_type": "code",
   "execution_count": null,
   "metadata": {},
   "outputs": [],
   "source": [
    "model.compile(loss=keras.losses.categorical_crossentropy,\n",
    "              optimizer=keras.optimizers.SGD(lr=0.01,momentum=0.9, nesterov=True))"
   ]
  },
  {
   "cell_type": "code",
   "execution_count": null,
   "metadata": {},
   "outputs": [],
   "source": [
    "## prepare a placeholder for input\n",
    "# this is our input placeholder\n",
    "inp = Input(shape=(784,)) # here shape (784, ) means we specify only the number of rows but we can input as many columns as we would like"
   ]
  },
  {
   "cell_type": "code",
   "execution_count": null,
   "metadata": {},
   "outputs": [],
   "source": [
    "## Adding layers --> simple as .add()\n",
    "## Dense means linear layer + activation\n",
    "model.add(Dense(units=64, activation='relu'))\n",
    "model.add(Dense(units=10, activation='softmax'))"
   ]
  },
  {
   "cell_type": "code",
   "execution_count": null,
   "metadata": {},
   "outputs": [],
   "source": [
    "# Option I - gradient descent\n",
    "model.compile(loss='mean_squared_error',\n",
    "              optimizer='Adam',\n",
    "              metrics=['mae', 'acc'])\n",
    "\n",
    "# Option II - adadelta\n",
    "# model.compile(optimizer='adadelta', loss='binary_crossentropy')"
   ]
  },
  {
   "cell_type": "markdown",
   "metadata": {},
   "source": [
    "<a href=\"https://keras.io/optimizers/\">more optimizers</a>"
   ]
  },
  {
   "cell_type": "code",
   "execution_count": null,
   "metadata": {},
   "outputs": [],
   "source": [
    "# Training the model!\n",
    "import numpy as np\n",
    "X_train = np.random.random((1000, 20))\n",
    "y_train = keras.utils.to_categorical(np.random.randint(10, size=(1000, 1)), num_classes=10)\n",
    "X_test = np.random.random((100, 20))\n",
    "y_test = keras.utils.to_categorical( np.random.randint(10, size=(100, 1)), num_classes=10)\n",
    "\n",
    "\n",
    "history = model.fit(X_train, y_train,\n",
    "                    batch_size=128, epochs=20,\n",
    "                    validation_data=(X_test, y_test))"
   ]
  },
  {
   "cell_type": "code",
   "execution_count": null,
   "metadata": {},
   "outputs": [],
   "source": [
    "# Results of the model over epochs\n",
    "history.history['val_loss']"
   ]
  },
  {
   "cell_type": "code",
   "execution_count": null,
   "metadata": {},
   "outputs": [],
   "source": [
    "history.history['loss']"
   ]
  },
  {
   "cell_type": "code",
   "execution_count": null,
   "metadata": {},
   "outputs": [],
   "source": [
    "model.summary()"
   ]
  },
  {
   "cell_type": "code",
   "execution_count": null,
   "metadata": {},
   "outputs": [],
   "source": [
    "## Evaluate\n",
    "loss_and_metrics = model.evaluate(X_test, y_test)"
   ]
  },
  {
   "cell_type": "code",
   "execution_count": null,
   "metadata": {},
   "outputs": [],
   "source": [
    "loss_and_metrics"
   ]
  },
  {
   "cell_type": "code",
   "execution_count": null,
   "metadata": {},
   "outputs": [],
   "source": [
    "### Useful\n",
    "model.save('./model.h5') # Save your weights and computational graph\n",
    "from keras.models import load_model\n",
    "load_model('./model.h5') # loading the saved model from above"
   ]
  },
  {
   "cell_type": "code",
   "execution_count": null,
   "metadata": {},
   "outputs": [],
   "source": [
    "!ls -lah"
   ]
  },
  {
   "cell_type": "code",
   "execution_count": null,
   "metadata": {},
   "outputs": [],
   "source": [
    "from keras.applications.vgg16 import VGG16"
   ]
  },
  {
   "cell_type": "code",
   "execution_count": null,
   "metadata": {},
   "outputs": [],
   "source": [
    "model = VGG16(weights='imagenet', include_top=False)\n",
    "# model.save('./vgg16.h5')"
   ]
  },
  {
   "cell_type": "code",
   "execution_count": null,
   "metadata": {},
   "outputs": [],
   "source": [
    "model.summary()"
   ]
  },
  {
   "cell_type": "code",
   "execution_count": null,
   "metadata": {},
   "outputs": [],
   "source": [
    "ls -lath"
   ]
  },
  {
   "cell_type": "markdown",
   "metadata": {},
   "source": [
    "### Your exercise:  Image reconstruction using auto-encoder"
   ]
  },
  {
   "cell_type": "markdown",
   "metadata": {},
   "source": [
    "##### Import dataset - Mnist (handwritten digits)"
   ]
  },
  {
   "cell_type": "code",
   "execution_count": null,
   "metadata": {},
   "outputs": [],
   "source": [
    "import os"
   ]
  },
  {
   "cell_type": "code",
   "execution_count": null,
   "metadata": {},
   "outputs": [],
   "source": [
    "import matplotlib.pyplot as plt"
   ]
  },
  {
   "cell_type": "code",
   "execution_count": null,
   "metadata": {},
   "outputs": [],
   "source": [
    "# keras imports for the dataset and building our neural network\n",
    "from keras.datasets import mnist\n",
    "from keras.models import Sequential, load_model, Input\n",
    "from keras.layers.core import Dense, Dropout, Activation\n",
    "from keras.layers import Conv2D, BatchNormalization\n",
    "from keras.utils import np_utils"
   ]
  },
  {
   "cell_type": "code",
   "execution_count": null,
   "metadata": {},
   "outputs": [],
   "source": [
    "### a. Load the Mnist dataset and split to train/test (use mnist.load_data())\n",
    "### b. Plot few images with their label\n",
    "### c. reshape images to 784 dim vector and normalize (divide by 255)\n",
    "### d. Create a new model with 1 Dense layers sized 32 (encoder) with relu layer. \n",
    "### Then add a dense layer sized 784 with sigmoid activation.\n",
    "### Run it for 50 epochs with batches of 256. Use binary cross-entropy. \n",
    "### e. Plot the model loss\n",
    "### f. Use predict to encode and decode x_test"
   ]
  },
  {
   "cell_type": "code",
   "execution_count": null,
   "metadata": {},
   "outputs": [],
   "source": [
    "# keras imports for the dataset and building our neural network\n",
    "import keras\n",
    "import os\n",
    "from keras.datasets import mnist\n",
    "from keras.models import Sequential\n",
    "from keras.layers import (\n",
    "    Dense,\n",
    "    Dropout,\n",
    "    Flatten,\n",
    "    Conv2D,\n",
    "    MaxPooling2D\n",
    ")\n",
    "from keras import backend as K\n",
    "\n",
    "os.environ['TF_CPP_MIN_LOG_LEVEL']='3'\n",
    "## This is to avoid getting hundreds of log messages"
   ]
  },
  {
   "cell_type": "code",
   "execution_count": null,
   "metadata": {},
   "outputs": [],
   "source": [
    "from keras.models import Model"
   ]
  },
  {
   "cell_type": "code",
   "execution_count": null,
   "metadata": {},
   "outputs": [],
   "source": [
    "batch_size = 256\n",
    "num_classes = 10\n",
    "epochs = 5"
   ]
  },
  {
   "cell_type": "code",
   "execution_count": null,
   "metadata": {},
   "outputs": [],
   "source": [
    "# input image dimensions\n",
    "img_rows, img_cols = 28, 28\n",
    "\n",
    "# the data, split between train and test sets\n",
    "(x_train, y_train), (x_test, y_test) = mnist.load_data()"
   ]
  },
  {
   "cell_type": "code",
   "execution_count": null,
   "metadata": {},
   "outputs": [],
   "source": [
    "x_train[0]"
   ]
  },
  {
   "cell_type": "code",
   "execution_count": null,
   "metadata": {},
   "outputs": [],
   "source": [
    "if K.image_data_format() == 'channels_first':\n",
    "    x_train = x_train.reshape(x_train.shape[0], 1, img_rows, img_cols)\n",
    "    x_test = x_test.reshape(x_test.shape[0], 1, img_rows, img_cols)\n",
    "    input_shape = (1, img_rows, img_cols)\n",
    "else:\n",
    "    x_train = x_train.reshape(x_train.shape[0], img_rows, img_cols, 1)\n",
    "    x_test = x_test.reshape(x_test.shape[0], img_rows, img_cols, 1)\n",
    "    input_shape = (img_rows, img_cols, 1)\n",
    "\n",
    "x_train = x_train.astype('float32')\n",
    "x_test = x_test.astype('float32')\n",
    "x_train /= 255\n",
    "x_test /= 255\n",
    "print('x_train shape:', x_train.shape)\n",
    "print(x_train.shape[0], 'train samples')\n",
    "print(x_test.shape[0], 'test samples')\n",
    "\n",
    "# convert class vectors to binary class matrices\n",
    "y_train = keras.utils.to_categorical(y_train, num_classes)\n",
    "y_test = keras.utils.to_categorical(y_test, num_classes)"
   ]
  },
  {
   "cell_type": "code",
   "execution_count": null,
   "metadata": {},
   "outputs": [],
   "source": [
    "model = Sequential()\n",
    "model.add(Conv2D(32, kernel_size=(3, 3),\n",
    "                 activation='relu',\n",
    "                 input_shape=input_shape))\n",
    "model.add(Conv2D(64, (3, 3), activation='relu'))\n",
    "model.add(MaxPooling2D(pool_size=(2, 2)))\n",
    "model.add(Dropout(0.25))\n",
    "model.add(Flatten())\n",
    "model.add(Dense(64, activation='relu'))\n",
    "model.add(Dropout(0.5))\n",
    "model.add(Dense(num_classes, activation='softmax'))\n",
    "\n",
    "model.compile(loss=keras.losses.categorical_crossentropy,\n",
    "              optimizer='Adam',\n",
    "              metrics=['accuracy'])"
   ]
  },
  {
   "cell_type": "code",
   "execution_count": null,
   "metadata": {},
   "outputs": [],
   "source": [
    "model.summary()"
   ]
  },
  {
   "cell_type": "code",
   "execution_count": null,
   "metadata": {},
   "outputs": [],
   "source": [
    "model.fit(x_train, y_train,\n",
    "          batch_size=batch_size,\n",
    "          epochs=epochs,\n",
    "          verbose=1,\n",
    "          validation_data=(x_test, y_test))\n",
    "score = model.evaluate(x_test, y_test, verbose=0)\n",
    "print('Test loss:', score[0])\n",
    "print('Test accuracy:', score[1])"
   ]
  },
  {
   "cell_type": "code",
   "execution_count": null,
   "metadata": {},
   "outputs": [],
   "source": []
  },
  {
   "cell_type": "code",
   "execution_count": null,
   "metadata": {},
   "outputs": [],
   "source": []
  }
 ],
 "metadata": {
  "kernelspec": {
   "display_name": "Python 3",
   "language": "python",
   "name": "python3"
  },
  "language_info": {
   "codemirror_mode": {
    "name": "ipython",
    "version": 3
   },
   "file_extension": ".py",
   "mimetype": "text/x-python",
   "name": "python",
   "nbconvert_exporter": "python",
   "pygments_lexer": "ipython3",
   "version": "3.7.3"
  },
  "toc": {
   "base_numbering": 1,
   "nav_menu": {},
   "number_sections": true,
   "sideBar": true,
   "skip_h1_title": false,
   "title_cell": "Table of Contents",
   "title_sidebar": "Contents",
   "toc_cell": false,
   "toc_position": {},
   "toc_section_display": true,
   "toc_window_display": false
  }
 },
 "nbformat": 4,
 "nbformat_minor": 2
}
